{
  "nbformat": 4,
  "nbformat_minor": 0,
  "metadata": {
    "colab": {
      "provenance": [],
      "include_colab_link": true
    },
    "kernelspec": {
      "name": "python3",
      "display_name": "Python 3"
    },
    "language_info": {
      "name": "python"
    }
  },
  "cells": [
    {
      "cell_type": "markdown",
      "metadata": {
        "id": "view-in-github",
        "colab_type": "text"
      },
      "source": [
        "<a href=\"https://colab.research.google.com/github/ardzeron/Obuchenie-1/blob/main/%D0%9A%D0%BE%D0%BF%D0%B8%D1%8F_%D0%B1%D0%BB%D0%BE%D0%BA%D0%BD%D0%BE%D1%82%D0%B0_%22%22%D0%9C%D0%BE%D0%B4%D1%83%D0%BB%D1%8C_1_%D0%9F%D1%80%D0%B0%D0%BA%D1%82%D0%B8%D1%87%D0%BD%D0%B0_%D1%87%D0%B0%D1%81%D1%82%D0%B8%D0%BD%D0%B0_ipynb%22%22.ipynb\" target=\"_parent\"><img src=\"https://colab.research.google.com/assets/colab-badge.svg\" alt=\"Open In Colab\"/></a>"
      ]
    },
    {
      "cell_type": "markdown",
      "metadata": {
        "id": "OeHSz3_b5ehN"
      },
      "source": [
        "# Задачі для практичного закріплення знань першого дня\n",
        "\n",
        "\n",
        "Завдання практичного блоку: закріпити отримані знання на теоретичній частині, при цьому студенти на рівні з викладачем вирішують завдання демонструючи екран і пояснюючи чому вибраний певний підхід для їх рішення.\n",
        "\n",
        "Суть даного підходу:\\\n",
        "1) Допомогти студентам навчитись демонструвати власні навички в рішені задач і зрозуміти, як може відбуватись перевірка технічного завдання під час інтерв'ю у ІТ компаніях\\\n",
        "2) Навчитись читати код інших програмістів і писати легко читаємий код\\\n",
        "3) Розбирання підходів в алгоритмах і реалізаціях задач для розширення власного кругозору (Knowledge sharing)\n"
      ]
    },
    {
      "cell_type": "markdown",
      "metadata": {
        "id": "9avmKNeIAMUe"
      },
      "source": [
        "# Блок Задач №1 Рішення задач по формулам:"
      ]
    },
    {
      "cell_type": "markdown",
      "metadata": {
        "id": "FEiST8Eb6C7Q"
      },
      "source": [
        "## Задача 1.\n",
        "Скласти програму розв'язання лінійного рівняння а*х + b = 0 (а≠0). (a і b вводяться користувачем)\n",
        "\n"
      ]
    },
    {
      "cell_type": "code",
      "source": [
        "value_a = float(input(\"Enter value a: \"))\n",
        "value_b = float(input(\"Enter value b: \"))\n",
        "\n",
        "value_x = -value_b/value_a\n",
        "\n",
        "print(f\"Result x equal: {value_x}\")"
      ],
      "metadata": {
        "colab": {
          "base_uri": "https://localhost:8080/"
        },
        "id": "4mkOkogCEg9h",
        "outputId": "975d1eaa-8707-4092-f0fb-4fb9b3a40bec"
      },
      "execution_count": null,
      "outputs": [
        {
          "output_type": "stream",
          "name": "stdout",
          "text": [
            "Enter value a: 5\n",
            "Enter value b: 7\n",
            "Result x equal: -1.4\n"
          ]
        }
      ]
    },
    {
      "cell_type": "code",
      "source": [
        "def equation(a, b):\n",
        "  return -b / a\n",
        "\n",
        "\n",
        "a = float(input('Enter value a: '))\n",
        "b = float(input('Enter value b: '))\n",
        "\n",
        "print(equation(a, b))"
      ],
      "metadata": {
        "colab": {
          "base_uri": "https://localhost:8080/"
        },
        "id": "E153b833J-sO",
        "outputId": "a1e1b679-1f48-49e9-9841-2a27ea68b86f"
      },
      "execution_count": null,
      "outputs": [
        {
          "output_type": "stream",
          "name": "stdout",
          "text": [
            "Enter value a: 5\n",
            "Enter value b: 7\n",
            "-1.4\n"
          ]
        }
      ]
    },
    {
      "cell_type": "markdown",
      "metadata": {
        "id": "DLMQ6iF361Hw"
      },
      "source": [
        "## Задача 2.\n",
        "Скласти програму обчислення площі та гіпотенузи прямокутного трикутника, якщо відомі його катети (вводяться користувачем)"
      ]
    },
    {
      "cell_type": "code",
      "metadata": {
        "id": "KOo2U_sI7tGi",
        "colab": {
          "base_uri": "https://localhost:8080/"
        },
        "outputId": "b2cdebd6-5e80-4a21-b5df-f54ef7af787f"
      },
      "source": [
        "# Гіпотенуза - sqrt(a^2 + b^2)\n",
        "# Площа - (a*b)/2\n",
        "\n",
        "kat_a, kat_b = float(input(\"Enter value a: \")), float(input(\"Enter value b: \"))\n",
        "area = (kat_a * kat_b )/2\n",
        "hypotenuse = (kat_a ** 2 + kat_b ** 2) ** 0.5\n",
        "print(area, hypotenuse)\n"
      ],
      "execution_count": null,
      "outputs": [
        {
          "output_type": "stream",
          "name": "stdout",
          "text": [
            "Enter value a: 3\n",
            "Enter value b: 4\n",
            "6.0 5.0\n"
          ]
        }
      ]
    },
    {
      "cell_type": "code",
      "source": [
        "from math import sqrt\n",
        "\n",
        "a = float(input(\"vkazit a\"))\n",
        "b = float(input(\"vkazit b\"))\n",
        "gip = sqrt(a**2 + b**2)\n",
        "plo = (a*b)/2\n",
        "print (\"Gipotenuza:\", gip, \" \", \"Ploscha:\")"
      ],
      "metadata": {
        "colab": {
          "base_uri": "https://localhost:8080/"
        },
        "id": "ZSv1a5x5Kff0",
        "outputId": "8e86c6aa-579b-461b-fa94-14840c7b70ce"
      },
      "execution_count": null,
      "outputs": [
        {
          "output_type": "stream",
          "name": "stdout",
          "text": [
            "vkazit a3\n",
            "vkazit b4\n",
            "Gipotenuza: 5.0   Ploscha:\n"
          ]
        }
      ]
    },
    {
      "cell_type": "code",
      "source": [
        "katet_a = float(input('Enter first katet: '))\n",
        "katet_b = float(input('Enter second katet: '))\n",
        "\n",
        "gipotenuza_c = (katet_a ** 2 + katet_b ** 2) ** 0.5\n",
        "area = (katet_a * katet_b) / 2\n",
        "\n",
        "print(f'Giputenuza = {gipotenuza_c}; Area = {area}')"
      ],
      "metadata": {
        "colab": {
          "base_uri": "https://localhost:8080/"
        },
        "id": "9VvJueuFK7p9",
        "outputId": "78c0def9-b542-43bf-b4f3-257a0607e838"
      },
      "execution_count": null,
      "outputs": [
        {
          "output_type": "stream",
          "name": "stdout",
          "text": [
            "Enter first katet: 3\n",
            "Enter second katet: 4\n",
            "Giputenuza = 5.0; Area = 6.0\n"
          ]
        }
      ]
    },
    {
      "cell_type": "markdown",
      "metadata": {
        "id": "dCUJCGdg8gpI"
      },
      "source": [
        "## Задача 3.\n",
        "Дано сторону квадрата a (вводиться користувачем). Скласти програму знаходження його периметра."
      ]
    },
    {
      "cell_type": "code",
      "metadata": {
        "id": "KHR1m0G_8q5K",
        "colab": {
          "base_uri": "https://localhost:8080/"
        },
        "outputId": "dd16aab8-3979-442a-d38a-2dec63211d13"
      },
      "source": [
        "# Периметр - a*4\n",
        "\n",
        "line = float(input('Enter yuor number: '))\n",
        "print(f\"Периметр квадрата равен {line *4}\")"
      ],
      "execution_count": null,
      "outputs": [
        {
          "output_type": "stream",
          "name": "stdout",
          "text": [
            "Enter yuor number: 5\n",
            "Периметр квадрата равен 20.0\n"
          ]
        }
      ]
    },
    {
      "cell_type": "code",
      "source": [
        "# Периметр - a*4\n",
        "A = float(input(\"a = \"))\n",
        "P = 4*A\n",
        "print(\"result\", P)"
      ],
      "metadata": {
        "colab": {
          "base_uri": "https://localhost:8080/"
        },
        "id": "1pyswGiQLVDJ",
        "outputId": "1befbdde-70f6-40eb-d202-4025f06baff9"
      },
      "execution_count": null,
      "outputs": [
        {
          "output_type": "stream",
          "name": "stdout",
          "text": [
            "a = 4\n",
            "result 16.0\n"
          ]
        }
      ]
    },
    {
      "cell_type": "markdown",
      "metadata": {
        "id": "r1wjuRIg-K5M"
      },
      "source": [
        "## Задача 4.\n",
        "Дано радіус кола r (вводяться користувачем). Скласти програму знаходження довжини кола та площі кола"
      ]
    },
    {
      "cell_type": "code",
      "metadata": {
        "id": "UUsMS9NT-ebC",
        "colab": {
          "base_uri": "https://localhost:8080/"
        },
        "outputId": "9c6bb46c-c832-4c1d-baab-bbad82bc005f"
      },
      "source": [
        "# Довжина кола - 2*Pi*R\n",
        "# Площа кола - (Pi*R^2)/2\n",
        "\n",
        "R = float(input(\"vkazit r:\"))\n",
        "PI = 3.14\n",
        "dovzhina = round(2*PI*R,2)\n",
        "ploscha = (PI*R**2)/2\n",
        "print(\"Dovzhina:\", dovzhina, \"Ploscha:\", ploscha)"
      ],
      "execution_count": null,
      "outputs": [
        {
          "output_type": "stream",
          "name": "stdout",
          "text": [
            "vkazit r:5\n",
            "Dovzhina: 31.4 Ploscha: 39.25\n"
          ]
        }
      ]
    },
    {
      "cell_type": "code",
      "source": [
        "import math\n",
        "\n",
        "radius = int(input(\"Enter radius: \"))\n",
        "\n",
        "len = 2*math.pi*radius\n",
        "\n",
        "print(f\"Len equals to: {len}\")\n",
        "\n",
        "area = (math.pi*(radius**2))/2\n",
        "\n",
        "print(f\"Area equals to: {area}\")\n",
        "\n",
        "# Довжина кола - 2*Pi*R\n",
        "# Площа кола - (Pi*R^2)/2"
      ],
      "metadata": {
        "colab": {
          "base_uri": "https://localhost:8080/"
        },
        "id": "hZF_yDidMMrs",
        "outputId": "285bb31f-6970-44ed-af45-e09ef2712890"
      },
      "execution_count": null,
      "outputs": [
        {
          "output_type": "stream",
          "name": "stdout",
          "text": [
            "Enter radius: 5\n",
            "Len equals to: 31.41592653589793\n",
            "Area equals to: 39.269908169872416\n"
          ]
        }
      ]
    },
    {
      "cell_type": "code",
      "source": [
        "radius = float(input('Enter radius circle: '))\n",
        "PI = 3.14\n",
        "length = 2 * PI * radius\n",
        "area = (PI * radius ** 2) / 2\n",
        "\n",
        "print(f'Radius circle = {radius};\\\n",
        "      Length circle = {round(length, 3)};\\\n",
        "      Area = {round(area, 3)}')"
      ],
      "metadata": {
        "colab": {
          "base_uri": "https://localhost:8080/"
        },
        "id": "tM54apG9Mkvv",
        "outputId": "31071603-05af-4adb-fbd9-45a5680fdeff"
      },
      "execution_count": null,
      "outputs": [
        {
          "output_type": "stream",
          "name": "stdout",
          "text": [
            "Enter radius circle: 5\n",
            "Radius circle = 5.0;      Length circle = 31.4;      Area = 39.25\n"
          ]
        }
      ]
    },
    {
      "cell_type": "markdown",
      "metadata": {
        "id": "a2Xl0a1k_dv9"
      },
      "source": [
        "## Задача 5.\n",
        "Скласти програму обчислення суми модулів трьох дійсних чисел"
      ]
    },
    {
      "cell_type": "code",
      "metadata": {
        "id": "sI_6W8Su_lwb",
        "colab": {
          "base_uri": "https://localhost:8080/"
        },
        "outputId": "d868d247-c533-4adb-d359-f9befa52eea2"
      },
      "source": [
        "a = float(input(\"Enter your 1st number\"))\n",
        "b = float(input(\"Enter your 2nd number\"))\n",
        "x = float(input(\"Enter your 3d number\"))\n",
        "\n",
        "Sum = a+b+x\n",
        "print (\"Sum is\", Sum)"
      ],
      "execution_count": null,
      "outputs": [
        {
          "output_type": "stream",
          "name": "stdout",
          "text": [
            "Enter your 1st number-7\n",
            "Enter your 2nd number-9\n",
            "Enter your 3d number-3\n",
            "Sum is -19.0\n"
          ]
        }
      ]
    },
    {
      "cell_type": "code",
      "source": [
        "num_1 = float(input())\n",
        "num_2 = float(input())\n",
        "num_3 = float(input())\n",
        "sum = abs(num_1) + abs(num_2) + abs(num_3)\n",
        "print(f\"{sum} the sum of three real numbers\")"
      ],
      "metadata": {
        "colab": {
          "base_uri": "https://localhost:8080/"
        },
        "id": "UgbmucAlNG-C",
        "outputId": "ccfcd98e-1f0f-45fb-a495-e884305017aa"
      },
      "execution_count": null,
      "outputs": [
        {
          "output_type": "stream",
          "name": "stdout",
          "text": [
            "-9\n",
            "-7\n",
            "-3\n",
            "19.0 the sum of three real numbers\n"
          ]
        }
      ]
    },
    {
      "cell_type": "code",
      "source": [
        "print(\"Result \", abs(float(input(\"Enter value_1\")))\n",
        "               + abs(float(input(\"Enter value_2\")))\n",
        "               + abs(float(input(\"Enter value_3\"))))"
      ],
      "metadata": {
        "colab": {
          "base_uri": "https://localhost:8080/"
        },
        "id": "EzimNdTXNp0V",
        "outputId": "7f6ee214-4929-4fff-cf70-f4f06d151ece"
      },
      "execution_count": null,
      "outputs": [
        {
          "output_type": "stream",
          "name": "stdout",
          "text": [
            "Enter value_1-7\n",
            "Enter value_2-9\n",
            "Enter value_3-3\n",
            "Result  19.0\n"
          ]
        }
      ]
    },
    {
      "cell_type": "markdown",
      "metadata": {
        "id": "FfAP5EsC2XQq"
      },
      "source": [
        "## Задача 6\n",
        "Дано дійсне число х. Скласти програму знаходження значення\n",
        "виразу 2x4-3x3+4х2-5х + 6."
      ]
    },
    {
      "cell_type": "code",
      "metadata": {
        "id": "Vm7XturQ2bIC",
        "colab": {
          "base_uri": "https://localhost:8080/"
        },
        "outputId": "0eb4e003-d864-48b9-9809-f1fe64fc47be"
      },
      "source": [
        "\n",
        "x = float(input('Enter your number: '))\n",
        "formul = (2*x*4)-(3*x*3)+(4*x*2) - 5*x + 6\n",
        "print(formul)"
      ],
      "execution_count": null,
      "outputs": [
        {
          "output_type": "stream",
          "name": "stdout",
          "text": [
            "Enter your number: 10\n",
            "26.0\n"
          ]
        }
      ]
    },
    {
      "cell_type": "code",
      "source": [
        "num_x = int(input('Enter X (int number): '))\n",
        "num_1 = int('2' + str(num_x) + '4')\n",
        "num_2 = int('3' + str(num_x) + '3')\n",
        "num_3 = int('4' + str(num_x) + '2')\n",
        "num_4 = int('5' + str(num_x))\n",
        "num_5 = 6\n",
        "\n",
        "sum = num_1 - num_2 + num_3 - num_4 + num_5\n",
        "print(f'Sum \"2x4-3x3+4х2-5х + 6\" for X = {num_x} = {sum}')"
      ],
      "metadata": {
        "colab": {
          "base_uri": "https://localhost:8080/"
        },
        "id": "Pqz6ENUjPAKL",
        "outputId": "def89434-343a-4227-f02e-1b30b27d593f"
      },
      "execution_count": null,
      "outputs": [
        {
          "output_type": "stream",
          "name": "stdout",
          "text": [
            "Enter X (int number): 10\n",
            "Sum \"2x4-3x3+4х2-5х + 6\" for X = 10 = 2599\n"
          ]
        }
      ]
    },
    {
      "cell_type": "code",
      "source": [
        "num_x = input('Enter X (int number): ')\n",
        "sum = eval(f\"2*{num_x}*4-3*{num_x}*3+4*{num_x}*2-5*{num_x}+6\")\n",
        "print(f'Sum \"2x4-3x3+4х2-5х + 6\" for X = {num_x} = {sum}')"
      ],
      "metadata": {
        "colab": {
          "base_uri": "https://localhost:8080/"
        },
        "id": "SgRcgTD5R4Rp",
        "outputId": "45c6ef62-9d8a-4162-8cc9-8d100e8a9eb7"
      },
      "execution_count": null,
      "outputs": [
        {
          "output_type": "stream",
          "name": "stdout",
          "text": [
            "Enter X (int number): 10\n",
            "Sum \"2x4-3x3+4х2-5х + 6\" for X = 10 = 26\n"
          ]
        }
      ]
    },
    {
      "cell_type": "markdown",
      "metadata": {
        "id": "P21e7PWG3HcT"
      },
      "source": [
        "## Задача 7\n",
        "Скласти програму обчислення відстані між точками з координатами, що вводяться користувачем.\n"
      ]
    },
    {
      "cell_type": "code",
      "metadata": {
        "id": "ag9QN95X3Ruu",
        "colab": {
          "base_uri": "https://localhost:8080/"
        },
        "outputId": "2fdce2e0-79b7-4268-c0af-c34a64cd0ffc"
      },
      "source": [
        "# Distance - sqrt((x2-x1)^2 + (y2-y1)^2)\n",
        "\n",
        "x1 = float(input(\"Enter first x\"))\n",
        "x2 = float(input(\"Enter second x\"))\n",
        "y1 = float(input(\"Enter first y\"))\n",
        "y2 = float(input(\"Enter second y\"))\n",
        "distance = ((x2 - x1) ** 2 + (y2-y1) ** 2) ** 0.5\n",
        "print(f\"Distance: {distance}\")"
      ],
      "execution_count": null,
      "outputs": [
        {
          "output_type": "stream",
          "name": "stdout",
          "text": [
            "Enter first x1\n",
            "Enter second x6\n",
            "Enter first y2\n",
            "Enter second y8\n",
            "Distance: 7.810249675906654\n"
          ]
        }
      ]
    },
    {
      "cell_type": "code",
      "source": [
        "import math\n",
        "x1 = float(input(\"Enter x1 = \"))\n",
        "x2 = float(input(\"Enter x2 = \"))\n",
        "y1 = float(input(\"Enter y1 = \"))\n",
        "y2 = float(input(\"Enter y2 = \"))\n",
        "print(\"sqrt((x2-x1)^2 + (y2-y1)^2) = \", round(math.sqrt((x2 - x1)**2 + (y2 - y1)**2), 2))"
      ],
      "metadata": {
        "colab": {
          "base_uri": "https://localhost:8080/"
        },
        "id": "HClWHBc5QXPe",
        "outputId": "904ec1af-0524-4ae3-bdf8-5f88f1cedcb1"
      },
      "execution_count": null,
      "outputs": [
        {
          "output_type": "stream",
          "name": "stdout",
          "text": [
            "Enter x1 = 1\n",
            "Enter x2 = 6\n",
            "Enter y1 = 2\n",
            "Enter y2 = 8\n",
            "sqrt((x2-x1)^2 + (y2-y1)^2) =  7.81\n"
          ]
        }
      ]
    },
    {
      "cell_type": "code",
      "source": [
        "from math import sqrt, pow\n",
        "x1 = float(input(\"Enter x1 = \"))\n",
        "x2 = float(input(\"Enter x2 = \"))\n",
        "y1 = float(input(\"Enter y1 = \"))\n",
        "y2 = float(input(\"Enter y2 = \"))\n",
        "print(\"sqrt((x2-x1)^2 + (y2-y1)^2) = \", round(sqrt(pow(x2 - x1, 2) + pow(y2 - y1, 2)), 2))"
      ],
      "metadata": {
        "colab": {
          "base_uri": "https://localhost:8080/"
        },
        "id": "Wjw0Wfs1QkzL",
        "outputId": "ffbf0328-942f-429b-c5ac-6a6a219f0596"
      },
      "execution_count": null,
      "outputs": [
        {
          "output_type": "stream",
          "name": "stdout",
          "text": [
            "Enter x1 = 1\n",
            "Enter x2 = 6\n",
            "Enter y1 = 2\n",
            "Enter y2 = 8\n",
            "sqrt((x2-x1)^2 + (y2-y1)^2) =  7.81\n"
          ]
        }
      ]
    },
    {
      "cell_type": "code",
      "source": [
        "#pow == **2"
      ],
      "metadata": {
        "id": "a2cqb-4cRCq2"
      },
      "execution_count": null,
      "outputs": []
    },
    {
      "cell_type": "markdown",
      "metadata": {
        "id": "RQg3n3IPF0lK"
      },
      "source": [
        "# Блок задач №2. Розв'язування задач на визначення цифр числа"
      ]
    },
    {
      "cell_type": "markdown",
      "metadata": {
        "id": "jdWpeUW22NR9"
      },
      "source": [
        "## Задача 8\n",
        "Скласти програму, яка вводить із клавіатури чотиризначне число і виводить на екран середнє арифметичне його цифр."
      ]
    },
    {
      "cell_type": "code",
      "metadata": {
        "colab": {
          "base_uri": "https://localhost:8080/"
        },
        "id": "_OAI2X6P4pRA",
        "outputId": "7bc9fae4-8b89-4492-b4c4-eca0831d00cb"
      },
      "source": [
        "# Input - 2424\n",
        "# Output - 3\n",
        "\n",
        "num = float(input(\"VVedit 4 znachne chislo: \"))\n",
        "num1 = num//1000\n",
        "num2 = (num // 1000) % 10\n",
        "num3 = (num // 10) % 10\n",
        "num4 = num % 10\n",
        "\n",
        "result = (num1 + num2 + num3 + num4) / 4\n",
        "print(result)"
      ],
      "execution_count": null,
      "outputs": [
        {
          "output_type": "stream",
          "name": "stdout",
          "text": [
            "VVedit 4 znachne chislo: 1234\n",
            "2.25\n"
          ]
        }
      ]
    },
    {
      "cell_type": "code",
      "source": [
        "num = float(input(\"VVedit 4 znachne chislo: \"))\n",
        "num1 = (num // 1000) % 10\n",
        "num2 = (num // 100) % 10\n",
        "num3 = (num // 10) % 10\n",
        "num4 = num % 10\n",
        "\n",
        "result = (num1 + num2 + num3 + num4) / 4\n",
        "print(num1, num2, num3, num4, sep=\"\\t\")\n",
        "print(result)"
      ],
      "metadata": {
        "colab": {
          "base_uri": "https://localhost:8080/"
        },
        "id": "SmLuu2LzUl42",
        "outputId": "ecb69188-99c9-4b40-efc0-354eaa7efaf4"
      },
      "execution_count": null,
      "outputs": [
        {
          "output_type": "stream",
          "name": "stdout",
          "text": [
            "VVedit 4 znachne chislo: 1234\n",
            "1.0\t2.0\t3.0\t4.0\n",
            "2.5\n"
          ]
        }
      ]
    },
    {
      "cell_type": "code",
      "source": [
        "num = int(input('Введить чотиризначне число - '))\n",
        "rezult = (num // 1000 + num // 100 % 10 + num // 10 % 10 + num % 10) / 4\n",
        "print(f'Cереднє арифметичне його цифр дорівнює - {rezult}')"
      ],
      "metadata": {
        "colab": {
          "base_uri": "https://localhost:8080/"
        },
        "id": "2H7rwbEPVOdO",
        "outputId": "221c4f78-622e-4f7d-a518-c55393bd71e0"
      },
      "execution_count": null,
      "outputs": [
        {
          "output_type": "stream",
          "name": "stdout",
          "text": [
            "Введить чотиризначне число - 1234\n",
            "Cереднє арифметичне його цифр дорівнює - 2.5\n"
          ]
        }
      ]
    },
    {
      "cell_type": "markdown",
      "metadata": {
        "id": "J9nXZUq26Nmq"
      },
      "source": [
        "## Задача 9\n",
        "Скласти програму, яка вводить з клавіатури тризначне число і виводить на екран\n",
        "- суму останньої та передостанньої цифри\n",
        "- суму останньої та першої цифри.\n"
      ]
    },
    {
      "cell_type": "code",
      "metadata": {
        "id": "B03zcmUr6e1B",
        "colab": {
          "base_uri": "https://localhost:8080/"
        },
        "outputId": "f77ea45a-34d0-49d2-9277-4dbc35db91a9"
      },
      "source": [
        "# Input - 123\n",
        "# Output_one - 5\n",
        "# Output_two - 4\n",
        "\n",
        "num = int(input('Введить тризначне число - '))\n",
        "rezult_2_3 = num // 10 % 10 + num % 10\n",
        "rezult_1_3 = num // 100 + num % 10\n",
        "print(f'Cума останньої та передостанньої цифри дорівнює - {rezult_2_3}')\n",
        "print(f'Cума останньої та першої цифри дорівнює - {rezult_1_3}')"
      ],
      "execution_count": null,
      "outputs": [
        {
          "output_type": "stream",
          "name": "stdout",
          "text": [
            "Введить тризначне число - 123\n",
            "Cума останньої та передостанньої цифри дорівнює - 5\n",
            "Cума останньої та першої цифри дорівнює - 4\n"
          ]
        }
      ]
    },
    {
      "cell_type": "code",
      "source": [
        "num = int(input(\"Enter a three-digit number: \"))\n",
        "digit1 = num // 100\n",
        "digit2 = (num // 10) % 10\n",
        "digit3 = num % 10\n",
        "\n",
        "\n",
        "sum_1 = digit2 + digit3\n",
        "sum_2 = digit1 + digit3\n",
        "\n",
        "print(f\"the sum of the last and penultimate {sum_1}\")\n",
        "print(f\"the sum of the last and the first {sum_2}\")"
      ],
      "metadata": {
        "colab": {
          "base_uri": "https://localhost:8080/"
        },
        "id": "z83hqGLIWPkk",
        "outputId": "9922d9d2-ab87-4fad-fe76-2eb00efc7e14"
      },
      "execution_count": null,
      "outputs": [
        {
          "output_type": "stream",
          "name": "stdout",
          "text": [
            "Enter a three-digit number: 123\n",
            "the sum of the last and penultimate 5\n",
            "the sum of the last and the first 4\n"
          ]
        }
      ]
    },
    {
      "cell_type": "markdown",
      "metadata": {
        "id": "R9fVnru4-iLH"
      },
      "source": [
        "## Задача 10\n",
        "У тризначному числі х закреслили його другу цифру. Коли до двозначного числа, що утворилося, ліворуч приписали другу цифру числа х, то вийшло число y. Скласти програму знаходження числа y."
      ]
    },
    {
      "cell_type": "code",
      "metadata": {
        "id": "vP4Hdk2I-xte",
        "colab": {
          "base_uri": "https://localhost:8080/"
        },
        "outputId": "f759fc31-14b3-440f-c43a-b77092d74fb9"
      },
      "source": [
        "# Input - 971\n",
        "# Otput - 791\n",
        "\n",
        "num = int(input(\"Enter a three-digit number: \"))\n",
        "digit1 = num // 100\n",
        "digit2 = (num // 10) % 10\n",
        "digit3 = num % 10\n",
        "\n",
        "result = str(digit2) +str(digit1) + str(digit3)\n",
        "\n",
        "print(f\"Result: {result}\")"
      ],
      "execution_count": null,
      "outputs": [
        {
          "output_type": "stream",
          "name": "stdout",
          "text": [
            "Enter a three-digit number: 971\n",
            "Result: 791\n"
          ]
        }
      ]
    },
    {
      "cell_type": "code",
      "source": [
        "num = input('Enter yuor number: ')\n",
        "print(num[1], num[0], num[2], sep='')"
      ],
      "metadata": {
        "colab": {
          "base_uri": "https://localhost:8080/"
        },
        "id": "IzIEgsf3XC8p",
        "outputId": "14fac99e-1392-4bed-aba4-e697047e3c8b"
      },
      "execution_count": null,
      "outputs": [
        {
          "output_type": "stream",
          "name": "stdout",
          "text": [
            "Enter yuor number: 971\n",
            "791\n"
          ]
        }
      ]
    },
    {
      "cell_type": "code",
      "source": [
        "num = 971\n",
        "num_1 = num // 100\n",
        "num_2 = (num - num_1 * 100) // 10\n",
        "num_3 = num % 10\n",
        "print(num_1, num_2, num_3)\n",
        "\n",
        "result = int(str(num_2) + str(num_1) + str(num_3))\n",
        "print('Output: ', result)"
      ],
      "metadata": {
        "colab": {
          "base_uri": "https://localhost:8080/"
        },
        "id": "SnkCMO_mXeqk",
        "outputId": "b0ce7f88-87bf-4061-ad00-eef8217fbef5"
      },
      "execution_count": null,
      "outputs": [
        {
          "output_type": "stream",
          "name": "stdout",
          "text": [
            "9 7 1\n",
            "Output:  791\n"
          ]
        }
      ]
    },
    {
      "cell_type": "markdown",
      "metadata": {
        "id": "5WoFOUes_X2R"
      },
      "source": [
        "## Задача 11\n",
        "Результат пошуку згенерував n записів (вводиться користувачем). Скільки сторінок потрібно для відображення цих записів, якщо на 1 сторінку виводиться 10 записів."
      ]
    },
    {
      "cell_type": "code",
      "metadata": {
        "id": "uwTXbt9w_d3q",
        "colab": {
          "base_uri": "https://localhost:8080/"
        },
        "outputId": "73a1125a-810c-4160-ea83-7f16124b8b3c"
      },
      "source": [
        "# Input - 64\n",
        "# Output - 7\n",
        "\n",
        "# Input - 10\n",
        "# Output - 1\n",
        "\n",
        "count_of_n = int(input(\"Enter count of n: \"))\n",
        "RECORD_PER_PAGE = 10\n",
        "pages = (count_of_n-1) // RECORD_PER_PAGE + 1\n",
        "print(f\"Pages is equal to {pages}\")"
      ],
      "execution_count": null,
      "outputs": [
        {
          "output_type": "stream",
          "name": "stdout",
          "text": [
            "Enter count of n: 10\n",
            "Pages is equal to 1\n"
          ]
        }
      ]
    },
    {
      "cell_type": "markdown",
      "metadata": {
        "id": "ILHz9N0yEEsP"
      },
      "source": [
        "# Блок задач №3. Робота з грошима і часом."
      ]
    },
    {
      "cell_type": "markdown",
      "metadata": {
        "id": "NWhnBPSzEZJf"
      },
      "source": [
        "## Задача 12\n",
        "Скласти програму, яка переводить час із секунд, визначаючи повну кількість годин хвилин і секунд (наприклад, час 5000 секунд це 1 година 23 хвилини 20 секунд 5000=13600+2360+20)."
      ]
    },
    {
      "cell_type": "code",
      "metadata": {
        "id": "U1A74BujJ79u",
        "colab": {
          "base_uri": "https://localhost:8080/"
        },
        "outputId": "fb3d9321-8223-40c5-b86b-ec7ff49cd74f"
      },
      "source": [
        "# Input - 5000\n",
        "# Otput_hours - 1\n",
        "# Otput_minutes - 23\n",
        "# Otput_seconds - 20\n",
        "\n",
        "n=int(input())\n",
        "god=n//3600\n",
        "n=n-god*3600\n",
        "xv = n//60\n",
        "n=n-xv*60\n",
        "print(f'Години {god}, хвилини {xv}, секунди {n}')"
      ],
      "execution_count": null,
      "outputs": [
        {
          "output_type": "stream",
          "name": "stdout",
          "text": [
            "5000\n",
            "Години 1, хвилини 23, секунди 20\n"
          ]
        }
      ]
    },
    {
      "cell_type": "code",
      "source": [
        "num = int(input('Ener your number: '))\n",
        "hours = num // 3600\n",
        "num -= hours * 3600\n",
        "minut = num // 60\n",
        "num -= minut * 60\n",
        "secund = num\n",
        "print(f'Otput_hours - {hours}\\nOtput_minutes - {minut}\\nOtput_seconds - {secund}')"
      ],
      "metadata": {
        "colab": {
          "base_uri": "https://localhost:8080/"
        },
        "id": "7UhMOO27ZdRX",
        "outputId": "7ba4db55-3863-477e-e453-0ade1e716f75"
      },
      "execution_count": null,
      "outputs": [
        {
          "output_type": "stream",
          "name": "stdout",
          "text": [
            "Ener your number: 5000\n",
            "Otput_hours - 1\n",
            "Otput_minutes - 23\n",
            "Otput_seconds - 20\n"
          ]
        }
      ]
    },
    {
      "cell_type": "code",
      "source": [
        "time = int(input())\n",
        "hours = time // 3600\n",
        "minutes = (time - hours)% 3600 // 60\n",
        "seconds = time % 60\n",
        "print(f\"{time} seconds = {hours} hours, {minutes} minutes, {seconds} seconds\")"
      ],
      "metadata": {
        "colab": {
          "base_uri": "https://localhost:8080/"
        },
        "id": "Uh8iCuiwZyD2",
        "outputId": "a84e9c47-7afb-4ddd-9163-fb0a2e13e607"
      },
      "execution_count": null,
      "outputs": [
        {
          "output_type": "stream",
          "name": "stdout",
          "text": [
            "5000\n",
            "5000 seconds = 1 hours, 23 minutes, 20 seconds\n"
          ]
        }
      ]
    },
    {
      "cell_type": "markdown",
      "metadata": {
        "id": "tHzmjqN6qgKm"
      },
      "source": [
        "## Задача 13\n",
        "В Інтернет-магазині зроблено 4 покупки: на \\$34.34, \\$12.01, \\$17.42, \\$4.93. Зі скількох доларів і центів складатиметься підсумкова сума.\n"
      ]
    },
    {
      "cell_type": "code",
      "metadata": {
        "colab": {
          "base_uri": "https://localhost:8080/"
        },
        "id": "JKuRlGKlqqc5",
        "outputId": "d65e8446-7935-4e49-861b-f4d0c1704a5c"
      },
      "source": [
        "# Input - 34.34, 12.01, 17.42, 4.93\n",
        "# Output_dollars - 68\n",
        "# Outputs_cents - 70\n",
        "\n",
        "price_1 = 34.34\n",
        "price_2 = 12.01\n",
        "price_3 = 17.42\n",
        "price_4 = 4.93\n",
        "\n",
        "price_check =  price_1 + price_2 + price_3 + price_4\n",
        "\n",
        "dollars = int(price_check // 1)\n",
        "cents = int(price_check % 1 * 100)\n",
        "\n",
        "print(f\"Price {price_check}\",f\"Dollars {dollars}\",f\"Cents {cents}\",sep='\\n')"
      ],
      "execution_count": null,
      "outputs": [
        {
          "output_type": "stream",
          "name": "stdout",
          "text": [
            "Price 68.7\n",
            "Dollars 68\n",
            "Cents 70\n"
          ]
        }
      ]
    },
    {
      "cell_type": "code",
      "source": [
        "buy_1 = 34.34\n",
        "buy_2 = 12.01\n",
        "buy_3 = 17.42\n",
        "buy_4 = 4.93\n",
        "\n",
        "sum = buy_1 + buy_2 + buy_3 + buy_4\n",
        "\n",
        "print('Amount of $ - ', int(sum))\n",
        "print('Amount of c - ', int((sum - int(sum)) * 100))"
      ],
      "metadata": {
        "colab": {
          "base_uri": "https://localhost:8080/"
        },
        "id": "6VQtuh5Ob8XU",
        "outputId": "13d3b763-da71-4d4b-8860-99ea19c71604"
      },
      "execution_count": null,
      "outputs": [
        {
          "output_type": "stream",
          "name": "stdout",
          "text": [
            "Amount of $ -  68\n",
            "Amount of c -  70\n"
          ]
        }
      ]
    },
    {
      "cell_type": "markdown",
      "metadata": {
        "id": "exn9vosxsfkF"
      },
      "source": [
        "## Задача 14\n",
        "Скласти програму визначення номера під'їзду та поверху квартири за заданим номером квартири. У будинку 5 поверхів і 4 квартири на поверсі."
      ]
    },
    {
      "cell_type": "code",
      "metadata": {
        "id": "RSW9Mk42skg6",
        "colab": {
          "base_uri": "https://localhost:8080/"
        },
        "outputId": "c17e09c3-2380-40c0-bcd1-b610770444f2"
      },
      "source": [
        "# Input - 54\n",
        "\n",
        "# Output_entrance - 3\n",
        "# Output_floor - 4\n",
        "\n",
        "num = int(input('Ener yuor number'))\n",
        "print(num // 20 + 1)\n",
        "print((num % 20) // 4 + 1)"
      ],
      "execution_count": null,
      "outputs": [
        {
          "output_type": "stream",
          "name": "stdout",
          "text": [
            "Ener yuor number54\n",
            "3\n",
            "4\n"
          ]
        }
      ]
    },
    {
      "cell_type": "markdown",
      "metadata": {
        "id": "uv92CT506pi0"
      },
      "source": [
        "## Задача 15\n",
        "Скласти програму визначення номера століття с за номером $n (n > 0)$ деякого року (врахувати що, наприклад, початком 20 століття був 1901, а не 1900 рік)."
      ]
    },
    {
      "cell_type": "code",
      "metadata": {
        "colab": {
          "base_uri": "https://localhost:8080/"
        },
        "id": "w-aC5nRs6sgX",
        "outputId": "e8d7c498-a302-403a-a50f-854743c75eb7"
      },
      "source": [
        "# Input - 2023\n",
        "# Output_century - 21\n",
        "\n",
        "a = int(input(\"Enter a year: \"))\n",
        "d = (a - 1) // 100\n",
        "century = d + 1\n",
        "print(century)"
      ],
      "execution_count": null,
      "outputs": [
        {
          "output_type": "stream",
          "name": "stdout",
          "text": [
            "Enter a year: 2001\n",
            "21\n"
          ]
        }
      ]
    },
    {
      "cell_type": "code",
      "source": [
        "a=int(input())\n",
        "k=(a-1)//100+1\n",
        "print(k)\n"
      ],
      "metadata": {
        "colab": {
          "base_uri": "https://localhost:8080/"
        },
        "id": "u7cyvHp3d0Lz",
        "outputId": "6ca013d3-82d4-41cc-fadc-b6dcb31d8cbf"
      },
      "execution_count": null,
      "outputs": [
        {
          "output_type": "stream",
          "name": "stdout",
          "text": [
            "2000\n",
            "20\n"
          ]
        }
      ]
    },
    {
      "cell_type": "markdown",
      "metadata": {
        "id": "yePDGxnx7JtR"
      },
      "source": [
        "## Задача 16\n",
        "Для кава-брейків на конференції закуплено: `х` круасанів, `у` стаканчиків, `z` упаковок кави. Ціна круасана \\$1.04, ціна стаканчика - \\$0.34, ціна упаковки кави \\$4.42. Скласти програму, яка обчислює, скільки повних доларів пішло на закупівлю їжі для кава-брейків, і яка її вартість у доларах і центах."
      ]
    },
    {
      "cell_type": "code",
      "metadata": {
        "id": "a-SNitfg8BF3",
        "colab": {
          "base_uri": "https://localhost:8080/"
        },
        "outputId": "b19c0ad0-31fc-4134-9c3e-4ba2b211b0bc"
      },
      "source": [
        "# Input_croissants - 4\n",
        "# Input_cups - 5\n",
        "# Input_coffee - 6\n",
        "# Output_dollars - 32\n",
        "# Output_cents - 3238\n",
        "\n",
        "croissants = int(input(\"Enter croissants: \"))\n",
        "cups = int(input(\"Enter cups: \"))\n",
        "coffee = int(input(\"Enter coffee: \"))\n",
        "\n",
        "price_croissants = 1.04\n",
        "price_cups = 0.34\n",
        "price_coffee = 4.42\n",
        "\n",
        "sum_dollars = croissants * price_croissants + \\\n",
        "              cups * price_cups + \\\n",
        "              coffee * price_coffee\n",
        "only_dollars = int(sum_dollars)\n",
        "sum_cents = int(sum_dollars * 100)\n",
        "print(f\"Dollars: {only_dollars}, cents: {sum_cents}\")"
      ],
      "execution_count": null,
      "outputs": [
        {
          "output_type": "stream",
          "name": "stdout",
          "text": [
            "Enter croissants: 4\n",
            "Enter cups: 5\n",
            "Enter coffee: 6\n",
            "Dollars: 32, cents: 3238\n"
          ]
        }
      ]
    },
    {
      "cell_type": "code",
      "source": [
        "croissants_price = int(input()) * 1.04\n",
        "cups_price = int(input()) * 0.34\n",
        "coffee_price = int(input()) * 4.42\n",
        "total = croissants_price + cups_price + coffee_price\n",
        "print(int(total))\n",
        "print(int(total * 100))"
      ],
      "metadata": {
        "colab": {
          "base_uri": "https://localhost:8080/"
        },
        "id": "0RU8PkVge7GM",
        "outputId": "ec838fa9-3696-4e46-dac9-5f1150326faa"
      },
      "execution_count": null,
      "outputs": [
        {
          "output_type": "stream",
          "name": "stdout",
          "text": [
            "4\n",
            "5\n",
            "6\n",
            "32\n",
            "3238\n"
          ]
        }
      ]
    },
    {
      "cell_type": "code",
      "source": [],
      "metadata": {
        "id": "ovVWmWH7fSDQ"
      },
      "execution_count": null,
      "outputs": []
    }
  ]
}